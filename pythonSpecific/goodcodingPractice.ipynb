{
 "cells": [
  {
   "cell_type": "code",
   "id": "initial_id",
   "metadata": {
    "collapsed": true,
    "ExecuteTime": {
     "end_time": "2024-09-26T04:04:51.112758Z",
     "start_time": "2024-09-26T04:04:51.103483Z"
    }
   },
   "source": "value = [len(x) for x in open('my_file.txt')]",
   "outputs": [],
   "execution_count": 1
  },
  {
   "metadata": {
    "ExecuteTime": {
     "end_time": "2024-09-26T04:04:51.122226Z",
     "start_time": "2024-09-26T04:04:51.113771Z"
    }
   },
   "cell_type": "code",
   "source": "value",
   "id": "ad16efdcab2da8c0",
   "outputs": [
    {
     "data": {
      "text/plain": [
       "[17, 46]"
      ]
     },
     "execution_count": 2,
     "metadata": {},
     "output_type": "execute_result"
    }
   ],
   "execution_count": 2
  },
  {
   "metadata": {
    "ExecuteTime": {
     "end_time": "2024-09-26T04:07:57.642950Z",
     "start_time": "2024-09-26T04:07:57.634875Z"
    }
   },
   "cell_type": "code",
   "source": [
    "def index_words(text):\n",
    "    result = []\n",
    "    if text :\n",
    "        result.append(0)\n",
    "        \n",
    "    for index, letter in enumerate(text):\n",
    "        if letter== ' ':\n",
    "            result.append(index + 1)\n",
    "    return result"
   ],
   "id": "cb83a86ad8214cae",
   "outputs": [],
   "execution_count": 3
  },
  {
   "metadata": {
    "ExecuteTime": {
     "end_time": "2024-09-26T04:08:28.215387Z",
     "start_time": "2024-09-26T04:08:28.209857Z"
    }
   },
   "cell_type": "code",
   "source": [
    "address = 'Four score and seven years ago...'\n",
    "result = index_words(address)\n",
    "result"
   ],
   "id": "9e23da11ea8bc23e",
   "outputs": [
    {
     "data": {
      "text/plain": [
       "[0, 5, 11, 15, 21, 27]"
      ]
     },
     "execution_count": 4,
     "metadata": {},
     "output_type": "execute_result"
    }
   ],
   "execution_count": 4
  },
  {
   "metadata": {
    "ExecuteTime": {
     "end_time": "2024-09-26T04:21:15.540169Z",
     "start_time": "2024-09-26T04:21:15.534859Z"
    }
   },
   "cell_type": "code",
   "source": [
    "def index_words_iter(text):\n",
    "    if text:\n",
    "        yield 0 \n",
    "    for index, letter in enumerate(text):\n",
    "        if letter ==' ':\n",
    "            yield index + 1\n",
    "            "
   ],
   "id": "efc317c2b546a2e0",
   "outputs": [],
   "execution_count": 9
  },
  {
   "metadata": {
    "ExecuteTime": {
     "end_time": "2024-09-26T04:21:23.234818Z",
     "start_time": "2024-09-26T04:21:23.229817Z"
    }
   },
   "cell_type": "code",
   "source": [
    "for p in index_words_iter(address):\n",
    "    print(p)"
   ],
   "id": "da483aca8fb7c6a3",
   "outputs": [
    {
     "name": "stdout",
     "output_type": "stream",
     "text": [
      "0\n",
      "5\n",
      "11\n",
      "15\n",
      "21\n",
      "27\n"
     ]
    }
   ],
   "execution_count": 11
  },
  {
   "metadata": {
    "ExecuteTime": {
     "end_time": "2024-09-26T04:22:25.952306Z",
     "start_time": "2024-09-26T04:22:25.947594Z"
    }
   },
   "cell_type": "code",
   "source": "value = (len(x) for x in open('my_file.txt'))",
   "id": "d238e07183e85e92",
   "outputs": [],
   "execution_count": 12
  },
  {
   "metadata": {
    "ExecuteTime": {
     "end_time": "2024-09-26T04:22:34.706280Z",
     "start_time": "2024-09-26T04:22:34.700822Z"
    }
   },
   "cell_type": "code",
   "source": [
    "for x in value:\n",
    "    print(x)"
   ],
   "id": "c53147a0c33c0b4f",
   "outputs": [
    {
     "name": "stdout",
     "output_type": "stream",
     "text": [
      "17\n",
      "46\n"
     ]
    }
   ],
   "execution_count": 13
  },
  {
   "metadata": {},
   "cell_type": "code",
   "outputs": [],
   "execution_count": null,
   "source": "",
   "id": "78dfcb41b26f0bc2"
  }
 ],
 "metadata": {
  "kernelspec": {
   "display_name": "Python 3",
   "language": "python",
   "name": "python3"
  },
  "language_info": {
   "codemirror_mode": {
    "name": "ipython",
    "version": 2
   },
   "file_extension": ".py",
   "mimetype": "text/x-python",
   "name": "python",
   "nbconvert_exporter": "python",
   "pygments_lexer": "ipython2",
   "version": "2.7.6"
  }
 },
 "nbformat": 4,
 "nbformat_minor": 5
}
